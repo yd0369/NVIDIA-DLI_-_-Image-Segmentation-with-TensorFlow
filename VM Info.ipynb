{
 "cells": [
  {
   "cell_type": "markdown",
   "metadata": {},
   "source": [
    "# Machine Info :"
   ]
  },
  {
   "cell_type": "code",
   "execution_count": 1,
   "metadata": {},
   "outputs": [
    {
     "name": "stdout",
     "output_type": "stream",
     "text": [
      "Linux 6f207fb1c720 4.4.0-1102-aws #113-Ubuntu SMP Wed Jan 29 14:54:54 UTC 2020 x86_64 x86_64 x86_64 GNU/Linux\n"
     ]
    }
   ],
   "source": [
    "!uname -a"
   ]
  },
  {
   "cell_type": "code",
   "execution_count": 2,
   "metadata": {},
   "outputs": [
    {
     "name": "stdout",
     "output_type": "stream",
     "text": [
      "Architecture:        x86_64\n",
      "CPU op-mode(s):      32-bit, 64-bit\n",
      "Byte Order:          Little Endian\n",
      "CPU(s):              4\n",
      "On-line CPU(s) list: 0-3\n",
      "Thread(s) per core:  2\n",
      "Core(s) per socket:  2\n",
      "Socket(s):           1\n",
      "NUMA node(s):        1\n",
      "Vendor ID:           GenuineIntel\n",
      "CPU family:          6\n",
      "Model:               85\n",
      "Model name:          Intel(R) Xeon(R) Platinum 8259CL CPU @ 2.50GHz\n",
      "Stepping:            7\n",
      "CPU MHz:             2499.998\n",
      "BogoMIPS:            4999.99\n",
      "Hypervisor vendor:   KVM\n",
      "Virtualization type: full\n",
      "L1d cache:           32K\n",
      "L1i cache:           32K\n",
      "L2 cache:            1024K\n",
      "L3 cache:            36608K\n",
      "NUMA node0 CPU(s):   0-3\n",
      "Flags:               fpu vme de pse tsc msr pae mce cx8 apic sep mtrr pge mca cmov pat pse36 clflush mmx fxsr sse sse2 ss ht syscall nx pdpe1gb rdtscp lm constant_tsc rep_good nopl xtopology nonstop_tsc aperfmperf tsc_known_freq pni pclmulqdq ssse3 fma cx16 pcid sse4_1 sse4_2 x2apic movbe popcnt tsc_deadline_timer aes xsave avx f16c rdrand hypervisor lahf_lm abm 3dnowprefetch invpcid_single kaiser fsgsbase tsc_adjust bmi1 avx2 smep bmi2 erms invpcid mpx avx512f rdseed adx smap clflushopt clwb avx512cd xsaveopt xsavec xgetbv1 ida arat pku\n"
     ]
    }
   ],
   "source": [
    "!lscpu"
   ]
  },
  {
   "cell_type": "code",
   "execution_count": 3,
   "metadata": {},
   "outputs": [
    {
     "name": "stdout",
     "output_type": "stream",
     "text": [
      "Threads/core: 4\n"
     ]
    }
   ],
   "source": [
    "!echo \"Threads/core: $(nproc --all)\""
   ]
  },
  {
   "cell_type": "code",
   "execution_count": 4,
   "metadata": {},
   "outputs": [
    {
     "name": "stdout",
     "output_type": "stream",
     "text": [
      "Thu Sep 29 04:54:11 2022       \n",
      "+-----------------------------------------------------------------------------+\n",
      "| NVIDIA-SMI 440.33.01    Driver Version: 440.33.01    CUDA Version: 10.2     |\n",
      "|-------------------------------+----------------------+----------------------+\n",
      "| GPU  Name        Persistence-M| Bus-Id        Disp.A | Volatile Uncorr. ECC |\n",
      "| Fan  Temp  Perf  Pwr:Usage/Cap|         Memory-Usage | GPU-Util  Compute M. |\n",
      "|===============================+======================+======================|\n",
      "|   0  Tesla T4            On   | 00000000:00:1E.0 Off |                    0 |\n",
      "| N/A   41C    P0    25W /  70W |  14624MiB / 15109MiB |      0%      Default |\n",
      "+-------------------------------+----------------------+----------------------+\n",
      "                                                                               \n",
      "+-----------------------------------------------------------------------------+\n",
      "| Processes:                                                       GPU Memory |\n",
      "|  GPU       PID   Type   Process name                             Usage      |\n",
      "|=============================================================================|\n",
      "+-----------------------------------------------------------------------------+\n"
     ]
    }
   ],
   "source": [
    "!nvidia-smi"
   ]
  },
  {
   "cell_type": "markdown",
   "metadata": {},
   "source": [
    "Alternatively, the ⟳ button above will also restart the kernel."
   ]
  },
  {
   "cell_type": "code",
   "execution_count": 5,
   "metadata": {},
   "outputs": [
    {
     "name": "stdout",
     "output_type": "stream",
     "text": [
      "Python 3.6.9\n"
     ]
    }
   ],
   "source": [
    "!python -V"
   ]
  },
  {
   "cell_type": "code",
   "execution_count": 6,
   "metadata": {},
   "outputs": [
    {
     "name": "stdout",
     "output_type": "stream",
     "text": [
      "Package                  Version   \n",
      "------------------------ ----------\n",
      "absl-py                  0.9.0     \n",
      "astor                    0.8.1     \n",
      "attrs                    19.3.0    \n",
      "backcall                 0.1.0     \n",
      "bleach                   3.1.3     \n",
      "cachetools               4.0.0     \n",
      "certifi                  2019.11.28\n",
      "chardet                  3.0.4     \n",
      "cloudpickle              1.3.0     \n",
      "cycler                   0.10.0    \n",
      "decorator                4.4.2     \n",
      "defusedxml               0.6.0     \n",
      "dill                     0.3.1.1   \n",
      "entrypoints              0.3       \n",
      "future                   0.17.1    \n",
      "gast                     0.2.2     \n",
      "google-auth              1.11.3    \n",
      "google-auth-oauthlib     0.4.1     \n",
      "google-pasta             0.2.0     \n",
      "googleapis-common-protos 1.51.0    \n",
      "graphsurgeon             0.4.1     \n",
      "grpcio                   1.27.2    \n",
      "h5py                     2.9.0     \n",
      "horovod                  0.19.0    \n",
      "idna                     2.9       \n",
      "importlib-metadata       1.5.0     \n",
      "ipykernel                5.1.4     \n",
      "ipython                  7.13.0    \n",
      "ipython-genutils         0.2.0     \n",
      "jedi                     0.16.0    \n",
      "Jinja2                   2.11.1    \n",
      "json5                    0.9.3     \n",
      "jsonschema               3.2.0     \n",
      "jupyter-client           6.0.0     \n",
      "jupyter-core             4.6.3     \n",
      "jupyter-tensorboard      0.1.10    \n",
      "jupyterlab               2.0.1     \n",
      "jupyterlab-server        1.0.0     \n",
      "jupytext                 1.4.1     \n",
      "Keras-Applications       1.0.8     \n",
      "Keras-Preprocessing      1.1.0     \n",
      "kiwisolver               1.2.0     \n",
      "Markdown                 3.2.1     \n",
      "MarkupSafe               1.1.1     \n",
      "matplotlib               3.2.1     \n",
      "mistune                  0.8.4     \n",
      "mock                     3.0.5     \n",
      "nbconvert                5.6.1     \n",
      "nbformat                 5.0.4     \n",
      "nltk                     3.2.5     \n",
      "notebook                 5.7.8     \n",
      "numpy                    1.17.3    \n",
      "nvidia-dali              0.19.0    \n",
      "nvidia-dali-tf-plugin    0.19.0    \n",
      "nvtx-plugins             0.1.7     \n",
      "oauthlib                 3.1.0     \n",
      "opt-einsum               3.2.0     \n",
      "pandocfilters            1.4.2     \n",
      "parso                    0.6.2     \n",
      "pexpect                  4.7.0     \n",
      "pickleshare              0.7.5     \n",
      "pip                      20.0.2    \n",
      "portpicker               1.3.1     \n",
      "prometheus-client        0.7.1     \n",
      "promise                  2.3       \n",
      "prompt-toolkit           3.0.4     \n",
      "protobuf                 3.11.3    \n",
      "psutil                   5.6.3     \n",
      "ptyprocess               0.6.0     \n",
      "pyasn1                   0.4.8     \n",
      "pyasn1-modules           0.2.8     \n",
      "pydot                    1.2.3     \n",
      "Pygments                 2.6.1     \n",
      "pyparsing                2.4.7     \n",
      "pyrsistent               0.15.7    \n",
      "python-dateutil          2.8.1     \n",
      "PyYAML                   5.3.1     \n",
      "pyzmq                    19.0.0    \n",
      "requests                 2.23.0    \n",
      "requests-oauthlib        1.3.0     \n",
      "rsa                      4.0       \n",
      "scipy                    1.4.1     \n",
      "Send2Trash               1.5.0     \n",
      "setuptools               46.0.0    \n",
      "six                      1.14.0    \n",
      "tensorboard              2.1.1     \n",
      "tensorflow               2.1.0+nv  \n",
      "tensorflow-addons        0.7.0     \n",
      "tensorflow-datasets      1.3.2     \n",
      "tensorflow-estimator     2.1.0     \n",
      "tensorflow-metadata      0.21.1    \n",
      "tensorrt                 7.0.0.11  \n",
      "termcolor                1.1.0     \n",
      "terminado                0.8.3     \n",
      "testpath                 0.4.4     \n",
      "tornado                  6.0.4     \n",
      "tqdm                     4.43.0    \n",
      "traitlets                4.3.3     \n",
      "uff                      0.6.5     \n",
      "urllib3                  1.25.8    \n",
      "wcwidth                  0.1.8     \n",
      "webencodings             0.5.1     \n",
      "Werkzeug                 1.0.0     \n",
      "wheel                    0.34.2    \n",
      "wrapt                    1.12.1    \n",
      "zipp                     3.1.0     \n",
      "\u001b[33mWARNING: You are using pip version 20.0.2; however, version 21.3.1 is available.\n",
      "You should consider upgrading via the '/usr/bin/python -m pip install --upgrade pip' command.\u001b[0m\n"
     ]
    }
   ],
   "source": [
    "!pip list"
   ]
  }
 ],
 "metadata": {
  "kernelspec": {
   "display_name": "Python 3.8.10 64-bit",
   "language": "python",
   "name": "python3"
  },
  "language_info": {
   "codemirror_mode": {
    "name": "ipython",
    "version": 3
   },
   "file_extension": ".py",
   "mimetype": "text/x-python",
   "name": "python",
   "nbconvert_exporter": "python",
   "pygments_lexer": "ipython3",
   "version": "3.8.10"
  },
  "vscode": {
   "interpreter": {
    "hash": "916dbcbb3f70747c44a77c7bcd40155683ae19c65e1c03b4aa3499c5328201f1"
   }
  }
 },
 "nbformat": 4,
 "nbformat_minor": 4
}
