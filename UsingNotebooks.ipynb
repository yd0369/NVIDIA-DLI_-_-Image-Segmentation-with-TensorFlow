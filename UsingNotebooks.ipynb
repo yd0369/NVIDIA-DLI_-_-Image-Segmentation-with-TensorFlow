{
 "cells": [
  {
   "cell_type": "markdown",
   "metadata": {},
   "source": [
    "# Your Interactive Coding Environment"
   ]
  },
  {
   "cell_type": "markdown",
   "metadata": {},
   "source": [
    "Before you begin programming, we would like to familiarize you with your interactive coding environment. This workshop utilizes the web-based coding interface [JupyterLab](https://jupyterlab.readthedocs.io/en/stable/). All necessary libraries have already been installed for you."
   ]
  },
  {
   "cell_type": "markdown",
   "metadata": {},
   "source": [
    "## Interactive Jupyter Code Cells"
   ]
  },
  {
   "cell_type": "markdown",
   "metadata": {},
   "source": [
    "Throughout the workshop are editable and executable cells which run Python code. Try editing and executing (shift+enter) the cell immediately below:"
   ]
  },
  {
   "cell_type": "code",
   "execution_count": 1,
   "metadata": {},
   "outputs": [
    {
     "name": "stdout",
     "output_type": "stream",
     "text": [
      "Welcome to accelerated data science.\n",
      "  adding: Solution.ipynb (deflated 28%)\n",
      "  adding: UsingNotebooks.ipynb (deflated 70%)\n",
      "  adding: slides.pdf (deflated 13%)\n",
      "  adding: images/ (stored 0%)\n",
      "  adding: images/DLI Header.png (deflated 7%)\n",
      "  adding: images/fig3_final.png (deflated 7%)\n",
      "  adding: images/fig4_final.png (deflated 6%)\n",
      "  adding: images/NN.png (deflated 2%)\n",
      "  adding: images/fig2_final.png (deflated 6%)\n",
      "  adding: images/FCN.png (deflated 4%)\n",
      "  adding: images/fig1_final.png (deflated 5%)\n",
      "  adding: ImageSegmentationWithTF2.ipynb (deflated 74%)\n",
      "  adding: data/ (stored 0%)\n",
      "  adding: data/val_images.tfrecords (deflated 88%)\n",
      "  adding: data/train_images.tfrecords (deflated 88%)\n",
      "  adding: .ipynb_checkpoints/ (stored 0%)\n",
      "  adding: .ipynb_checkpoints/UsingNotebooks-checkpoint.ipynb (deflated 70%)\n"
     ]
    }
   ],
   "source": [
    "print('Welcome to accelerated data science.')\n",
    "!zip -r myfiles.zip ."
   ]
  },
  {
   "cell_type": "markdown",
   "metadata": {},
   "source": [
    "## Jupyter Notebook Organization"
   ]
  },
  {
   "cell_type": "markdown",
   "metadata": {},
   "source": [
    "This workshop is broken into many small notebooks, each with numerical prefixes. You can view all the notebooks available to you in a section of the workshop by clicking on the folder-shaped icon along the left sidebar. Alternatively, if you can already see the files, clicking on this icon will hide them, which we highly recommend you do to give yourself more space while working on the materials."
   ]
  },
  {
   "cell_type": "markdown",
   "metadata": {},
   "source": [
    "## Available GPU Accelerators"
   ]
  },
  {
   "cell_type": "markdown",
   "metadata": {},
   "source": [
    "We can use these interactive cells to run shell commands by prefixing them with `!`. For example, execute the following cell to run the shell command `nvidia-smi`, which will print information about your environment's available GPUs, their current memory usage, and any processes currently utilizing them:"
   ]
  },
  {
   "cell_type": "code",
   "execution_count": null,
   "metadata": {},
   "outputs": [],
   "source": [
    "!nvidia-smi"
   ]
  },
  {
   "cell_type": "markdown",
   "metadata": {},
   "source": [
    "As you can see almost no GPU memory is being used right now, and, there are no active processes utilizing the GPUs. Throughout the lab you can use this command to keep an eye on memory usage. As a general rule of thumb when doing data analysis on the GPU, we try to keep about half the GPU memory free for operations which will expand the data stored on the GPU device."
   ]
  },
  {
   "cell_type": "markdown",
   "metadata": {},
   "source": [
    "## Magic Commands"
   ]
  },
  {
   "cell_type": "markdown",
   "metadata": {},
   "source": [
    "Jupyter coding environments come installed with *magic* commands, which can be recognized by the presence of `%` or `%%`. We will be using two magic commands liberally in this workshop:\n",
    "1. `%time` and `%%time` which will print summary information about how long it took to run code for a line or entire cell respectively.\n",
    "2. `%load` which will load the contents of a given file into the cell. We will be using this magic primarily to load example solutions for after you complete exercises.\n",
    "\n",
    "Execute the following three code cells to see how the magic commands work:"
   ]
  },
  {
   "cell_type": "markdown",
   "metadata": {},
   "source": [
    "### Magic Commands `%time` and `%%time`"
   ]
  },
  {
   "cell_type": "code",
   "execution_count": null,
   "metadata": {},
   "outputs": [],
   "source": [
    "from time import sleep\n",
    "\n",
    "%time sleep(2) # %time only times one line\n",
    "sleep(1)"
   ]
  },
  {
   "cell_type": "code",
   "execution_count": null,
   "metadata": {},
   "outputs": [],
   "source": [
    "%%time\n",
    "# %%time will time the entire cell\n",
    "\n",
    "sleep(1)\n",
    "sleep(1)"
   ]
  },
  {
   "cell_type": "markdown",
   "metadata": {},
   "source": [
    "### Magic Command `%load`"
   ]
  },
  {
   "cell_type": "markdown",
   "metadata": {},
   "source": [
    "Execute the cell below to use the `%load` magic command. Execute it a second time to run the code that gets loaded."
   ]
  },
  {
   "cell_type": "code",
   "execution_count": null,
   "metadata": {},
   "outputs": [],
   "source": [
    "%load solutions/load_solution"
   ]
  },
  {
   "cell_type": "markdown",
   "metadata": {},
   "source": [
    "## Jupyter Kernels"
   ]
  },
  {
   "cell_type": "markdown",
   "metadata": {},
   "source": [
    "The compute backend for Jupyter (as opposed to this web front-end you are viewing) is called the *kernel*."
   ]
  },
  {
   "cell_type": "markdown",
   "metadata": {},
   "source": [
    "### Managing Kernels in This Workshop"
   ]
  },
  {
   "cell_type": "markdown",
   "metadata": {},
   "source": [
    "This workshop consists of several smallish notebooks, each intended to stand alone with regard to memory and computation. However, the Jupyter environment starts up a separate kernel for each new notebook which means:\n",
    "\n",
    "1. Notebooks other than the one you are working on may still have memory allocated for *their unique kernel*\n",
    "2. Restarting the kernel from the *Kernel* menu will only clear the memory for *your current notebook's kernel*"
   ]
  },
  {
   "cell_type": "markdown",
   "metadata": {},
   "source": [
    "The kernal can be restarted by executing provided code cells that will shutdown the kernel. When you click the following cell you will see a popup indicating the kernel has restarted."
   ]
  },
  {
   "cell_type": "code",
   "execution_count": null,
   "metadata": {},
   "outputs": [],
   "source": [
    "import IPython\n",
    "app = IPython.Application.instance()\n",
    "app.kernel.do_shutdown(True)"
   ]
  },
  {
   "cell_type": "markdown",
   "metadata": {},
   "source": [
    "Alternatively, the ⟳ button above will also restart the kernel."
   ]
  },
  {
   "cell_type": "markdown",
   "metadata": {},
   "source": [
    "It's unlikely you'll need to restart the kernel for any other reason than to clean GPU memory, but if needed, you can use these same methods to restart a notebook's kernel at any time."
   ]
  },
  {
   "cell_type": "markdown",
   "metadata": {},
   "source": [
    "#### Best Practice: Fix Out of Memory Errors"
   ]
  },
  {
   "cell_type": "markdown",
   "metadata": {},
   "source": [
    "**Any time you run out of GPU memory:**\n",
    "\n",
    "1. Use `nvidia-smi` to observe whether there is memory allocated on the GPU(s)\n",
    "2. Look for notebooks with active kernels in the *File Browser*\n",
    "3. Shutdown active kernels via the *Running Terminals and Kernels* menu"
   ]
  }
 ],
 "metadata": {
  "kernelspec": {
   "display_name": "Python 3.8.10 64-bit",
   "language": "python",
   "name": "python3"
  },
  "language_info": {
   "codemirror_mode": {
    "name": "ipython",
    "version": 3
   },
   "file_extension": ".py",
   "mimetype": "text/x-python",
   "name": "python",
   "nbconvert_exporter": "python",
   "pygments_lexer": "ipython3",
   "version": "3.8.10"
  },
  "vscode": {
   "interpreter": {
    "hash": "916dbcbb3f70747c44a77c7bcd40155683ae19c65e1c03b4aa3499c5328201f1"
   }
  }
 },
 "nbformat": 4,
 "nbformat_minor": 4
}
